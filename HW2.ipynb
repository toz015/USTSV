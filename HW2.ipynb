{
  "nbformat": 4,
  "nbformat_minor": 0,
  "metadata": {
    "colab": {
      "name": "HW2.ipynb",
      "provenance": [],
      "collapsed_sections": [],
      "authorship_tag": "ABX9TyOgCVPoNz0dPmzJjHcAdGnB",
      "include_colab_link": true
    },
    "kernelspec": {
      "name": "python3",
      "display_name": "Python 3"
    }
  },
  "cells": [
    {
      "cell_type": "markdown",
      "metadata": {
        "id": "view-in-github",
        "colab_type": "text"
      },
      "source": [
        "<a href=\"https://colab.research.google.com/github/toz015/USTSV/blob/master/HW2.ipynb\" target=\"_parent\"><img src=\"https://colab.research.google.com/assets/colab-badge.svg\" alt=\"Open In Colab\"/></a>"
      ]
    },
    {
      "cell_type": "markdown",
      "metadata": {
        "id": "UYYiEmo6PTYv",
        "colab_type": "text"
      },
      "source": [
        "### Q1\n",
        "Write python to generate a fibonacci sequence up to number n (n is a parameter of integer."
      ]
    },
    {
      "cell_type": "code",
      "metadata": {
        "id": "s2O_UmQkPYk2",
        "colab_type": "code",
        "colab": {}
      },
      "source": [
        "def fib_f(n):\n",
        "  if not n:\n",
        "    return []\n",
        "  if n == 1:\n",
        "    return [1]\n",
        "  lst = [0 for i in range(n)]\n",
        "  lst[0] = 1\n",
        "  lst[1] = 1\n",
        "  for i in range(2, n):\n",
        "    lst[i] = lst[i - 1] + lst[i - 2]\n",
        "  return lst"
      ],
      "execution_count": 2,
      "outputs": []
    },
    {
      "cell_type": "code",
      "metadata": {
        "id": "exrGfaRUPkAB",
        "colab_type": "code",
        "colab": {
          "base_uri": "https://localhost:8080/",
          "height": 35
        },
        "outputId": "0b31bd68-e3c3-4ec6-8740-4f29bcbc0e34"
      },
      "source": [
        "#example\n",
        "fib_f(5)"
      ],
      "execution_count": 5,
      "outputs": [
        {
          "output_type": "execute_result",
          "data": {
            "text/plain": [
              "[1, 1, 2, 3, 5]"
            ]
          },
          "metadata": {
            "tags": []
          },
          "execution_count": 5
        }
      ]
    },
    {
      "cell_type": "markdown",
      "metadata": {
        "id": "Iqb5mJiuQBXY",
        "colab_type": "text"
      },
      "source": [
        "### Q2\n",
        "Write a class to help a school to look up students and their rooms.\n",
        "\n",
        "1.   Student list is a csv file that you need to read in. sample file attached.\n",
        "2.   Loop waiting/prompt for the user to input the student name. If a student exists, tell which room. Else try again.\n",
        "3.   When user input 'exit', the program exits the loop. \n"
      ]
    },
    {
      "cell_type": "code",
      "metadata": {
        "id": "L80oBBVBQ4Q4",
        "colab_type": "code",
        "colab": {}
      },
      "source": [
        "#@title import packages\n",
        "!pip install -U -q PyDrive\n",
        "from pydrive.auth import GoogleAuth\n",
        "from pydrive.drive import GoogleDrive\n",
        "from google.colab import auth\n",
        "from oauth2client.client import GoogleCredentials\n",
        "\n",
        "\n",
        "auth.authenticate_user()\n",
        "gauth = GoogleAuth()\n",
        "gauth.credentials = GoogleCredentials.get_application_default()\n",
        "drive = GoogleDrive(gauth)"
      ],
      "execution_count": 7,
      "outputs": []
    },
    {
      "cell_type": "code",
      "metadata": {
        "id": "5REA7pxLRJtX",
        "colab_type": "code",
        "colab": {}
      },
      "source": [
        "import pandas as pd\n",
        "import numpy as np"
      ],
      "execution_count": 8,
      "outputs": []
    },
    {
      "cell_type": "code",
      "metadata": {
        "id": "yKJVKItDQgMj",
        "colab_type": "code",
        "colab": {
          "base_uri": "https://localhost:8080/",
          "height": 141
        },
        "outputId": "b80250da-f659-4ce8-a2ae-c1db2ecf8644"
      },
      "source": [
        "# import dataset\n",
        "link = 'https://drive.google.com/open?id=1nvFcwXCmbCi-PrY09JlNTlcWUiDMMjjx'\n",
        "fluff, id = link.split('=')\n",
        "file = drive.CreateFile({'id':id}) # replace the id with id of file you want to access\n",
        "file.GetContentFile('studentlist.txt')  \n",
        "df = pd.read_table('studentlist.txt', sep= \",\", header  = None)\n",
        "df.head(3)"
      ],
      "execution_count": 11,
      "outputs": [
        {
          "output_type": "execute_result",
          "data": {
            "text/html": [
              "<div>\n",
              "<style scoped>\n",
              "    .dataframe tbody tr th:only-of-type {\n",
              "        vertical-align: middle;\n",
              "    }\n",
              "\n",
              "    .dataframe tbody tr th {\n",
              "        vertical-align: top;\n",
              "    }\n",
              "\n",
              "    .dataframe thead th {\n",
              "        text-align: right;\n",
              "    }\n",
              "</style>\n",
              "<table border=\"1\" class=\"dataframe\">\n",
              "  <thead>\n",
              "    <tr style=\"text-align: right;\">\n",
              "      <th></th>\n",
              "      <th>0</th>\n",
              "      <th>1</th>\n",
              "    </tr>\n",
              "  </thead>\n",
              "  <tbody>\n",
              "    <tr>\n",
              "      <th>0</th>\n",
              "      <td>andrew</td>\n",
              "      <td>7</td>\n",
              "    </tr>\n",
              "    <tr>\n",
              "      <th>1</th>\n",
              "      <td>dave</td>\n",
              "      <td>9</td>\n",
              "    </tr>\n",
              "    <tr>\n",
              "      <th>2</th>\n",
              "      <td>patrick</td>\n",
              "      <td>10</td>\n",
              "    </tr>\n",
              "  </tbody>\n",
              "</table>\n",
              "</div>"
            ],
            "text/plain": [
              "         0   1\n",
              "0   andrew   7\n",
              "1     dave   9\n",
              "2  patrick  10"
            ]
          },
          "metadata": {
            "tags": []
          },
          "execution_count": 11
        }
      ]
    },
    {
      "cell_type": "code",
      "metadata": {
        "id": "cD1Dg51rRY2T",
        "colab_type": "code",
        "colab": {
          "base_uri": "https://localhost:8080/",
          "height": 141
        },
        "outputId": "7dac137b-5616-4189-c766-f015df254cc3"
      },
      "source": [
        "df.columns = ['Student', 'Room']\n",
        "df.head(3)"
      ],
      "execution_count": 13,
      "outputs": [
        {
          "output_type": "execute_result",
          "data": {
            "text/html": [
              "<div>\n",
              "<style scoped>\n",
              "    .dataframe tbody tr th:only-of-type {\n",
              "        vertical-align: middle;\n",
              "    }\n",
              "\n",
              "    .dataframe tbody tr th {\n",
              "        vertical-align: top;\n",
              "    }\n",
              "\n",
              "    .dataframe thead th {\n",
              "        text-align: right;\n",
              "    }\n",
              "</style>\n",
              "<table border=\"1\" class=\"dataframe\">\n",
              "  <thead>\n",
              "    <tr style=\"text-align: right;\">\n",
              "      <th></th>\n",
              "      <th>Student</th>\n",
              "      <th>Room</th>\n",
              "    </tr>\n",
              "  </thead>\n",
              "  <tbody>\n",
              "    <tr>\n",
              "      <th>0</th>\n",
              "      <td>andrew</td>\n",
              "      <td>7</td>\n",
              "    </tr>\n",
              "    <tr>\n",
              "      <th>1</th>\n",
              "      <td>dave</td>\n",
              "      <td>9</td>\n",
              "    </tr>\n",
              "    <tr>\n",
              "      <th>2</th>\n",
              "      <td>patrick</td>\n",
              "      <td>10</td>\n",
              "    </tr>\n",
              "  </tbody>\n",
              "</table>\n",
              "</div>"
            ],
            "text/plain": [
              "   Student  Room\n",
              "0   andrew     7\n",
              "1     dave     9\n",
              "2  patrick    10"
            ]
          },
          "metadata": {
            "tags": []
          },
          "execution_count": 13
        }
      ]
    },
    {
      "cell_type": "code",
      "metadata": {
        "id": "5K7wMy30StN0",
        "colab_type": "code",
        "colab": {
          "base_uri": "https://localhost:8080/",
          "height": 35
        },
        "outputId": "7ae2b6f5-3ce5-4f06-dc6b-8ecdbd1bee37"
      },
      "source": [
        "set(df['Student'].tolist())"
      ],
      "execution_count": 34,
      "outputs": [
        {
          "output_type": "execute_result",
          "data": {
            "text/plain": [
              "{'andrew', 'dave', 'eric', 'luk', 'patrick', 'tony'}"
            ]
          },
          "metadata": {
            "tags": []
          },
          "execution_count": 34
        }
      ]
    },
    {
      "cell_type": "code",
      "metadata": {
        "id": "EuCFB_8HZtKe",
        "colab_type": "code",
        "colab": {}
      },
      "source": [
        "class school:\n",
        "  def __init__(self, df):\n",
        "    self.total_student = dict(zip(df[\"Student\"], df[\"Room\"]))\n",
        "    \n",
        "  def find_room(self, name):\n",
        "    if name in self.total_student:\n",
        "      return  self.total_student[name]\n",
        "    else:\n",
        "      print(\"No record\")\n",
        "  \n",
        "  \n",
        "def main(df):\n",
        "  temp = school(df)\n",
        "  while True:\n",
        "    g = input(\"Enter: \")\n",
        "    if g == \"exits\":\n",
        "      break\n",
        "    else:\n",
        "      print(temp.find_room(g))"
      ],
      "execution_count": 62,
      "outputs": []
    },
    {
      "cell_type": "code",
      "metadata": {
        "id": "HfjTwfd3aTJN",
        "colab_type": "code",
        "colab": {
          "base_uri": "https://localhost:8080/",
          "height": 52
        },
        "outputId": "5ae9b1ea-8b62-4b51-f0f0-6e6c2a7981ae"
      },
      "source": [
        "main(df)"
      ],
      "execution_count": 63,
      "outputs": [
        {
          "output_type": "stream",
          "text": [
            "Enter: andrew\n"
          ],
          "name": "stdout"
        },
        {
          "output_type": "execute_result",
          "data": {
            "text/plain": [
              "7"
            ]
          },
          "metadata": {
            "tags": []
          },
          "execution_count": 63
        }
      ]
    }
  ]
}