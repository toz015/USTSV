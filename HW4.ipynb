{
  "nbformat": 4,
  "nbformat_minor": 0,
  "metadata": {
    "colab": {
      "name": "HW4.ipynb",
      "provenance": [],
      "authorship_tag": "ABX9TyN94sHdpfrj68jU/xg+I+/W",
      "include_colab_link": true
    },
    "kernelspec": {
      "name": "python3",
      "display_name": "Python 3"
    }
  },
  "cells": [
    {
      "cell_type": "markdown",
      "metadata": {
        "id": "view-in-github",
        "colab_type": "text"
      },
      "source": [
        "<a href=\"https://colab.research.google.com/github/toz015/USTSV/blob/master/HW4.ipynb\" target=\"_parent\"><img src=\"https://colab.research.google.com/assets/colab-badge.svg\" alt=\"Open In Colab\"/></a>"
      ]
    },
    {
      "cell_type": "markdown",
      "metadata": {
        "id": "a-HfT6rX05FT",
        "colab_type": "text"
      },
      "source": [
        "### Data Visualization \n",
        "Given an excel, we need your use what you have learned to: \n",
        "\n",
        "  1. Generate a chart for weekly.  \n",
        "  2. Generate crontab entries for weekly and daily scheduling.\n",
        "\n",
        "Excel: “meeting data 3_16-3_22xls” in our homework folder. \\\n",
        "(NOTES: This is a version I am using to calculate a capacity planning and loadTest.sh crontab.)\n",
        "\n",
        "Info of dataset:\n",
        "    \n",
        "\n",
        "*   Daily volume of meetings we have.\n",
        "*   Webex: 1 week of data.\n",
        "*   Server: Gcp: USWest, USEast, AP (singapore)  EU(frankford) \n",
        "*   4 region:  generate a scheduler to prepare our pods/nodes. \n",
        "\n",
        "\n",
        "\n",
        "Based on provided information. \n",
        "#### Tasks:\n",
        "* Draw charts on meetings based on region: US (west, east), Asia Pacific (singapore), Europe (frankford). [choose columns to combine]\n",
        "* Numpy Panda: Daily chart /weekday chart,  weekend chart. [group by] Weekly chart  \n",
        "* Improve ipynb for our scheduler to generate 4 different schedules based on the chart of each region.\n",
        "* Parameterize a factor (currently set at 0.6) so that we can easily change the 0.6 to another value easily.\n",
        "* Can you change the ipynb to a flask microservice? \n",
        "* localhost:5000/region/time/?factor=0.6 to get the meeting number we should generate? Optional. \n"
      ]
    },
    {
      "cell_type": "code",
      "metadata": {
        "id": "xwfp2orR04KH",
        "colab_type": "code",
        "colab": {}
      },
      "source": [
        "#@title import packages\n",
        "!pip install -U -q PyDrive\n",
        "from pydrive.auth import GoogleAuth\n",
        "from pydrive.drive import GoogleDrive\n",
        "from google.colab import auth\n",
        "from oauth2client.client import GoogleCredentials\n",
        "import pandas as pd\n",
        "import numpy as np\n",
        "\n",
        "auth.authenticate_user()\n",
        "gauth = GoogleAuth()\n",
        "gauth.credentials = GoogleCredentials.get_application_default()\n",
        "drive = GoogleDrive(gauth)"
      ],
      "execution_count": 1,
      "outputs": []
    },
    {
      "cell_type": "code",
      "metadata": {
        "id": "vkY8EFLV5JLe",
        "colab_type": "code",
        "colab": {}
      },
      "source": [
        "# import dataset\n",
        "link = 'https://drive.google.com/open?id=1JMG1zcZmi9mbhz-BmtV47bcOWHmIw-xp'\n",
        "\n",
        "fluff, id = link.split('=')\n",
        "file = drive.CreateFile({'id':id}) # replace the id with id of file you want to access\n",
        "file.GetContentFile('Meeting Data 3_16-3_22.xls')  \n",
        "df = pd.read_excel('Meeting Data 3_16-3_22.xls', sep= \",\")\n",
        "df.drop(['DFW2',], axis=1, inplace = True)"
      ],
      "execution_count": 2,
      "outputs": []
    },
    {
      "cell_type": "code",
      "metadata": {
        "id": "UYARMyMW6QbR",
        "colab_type": "code",
        "colab": {
          "base_uri": "https://localhost:8080/",
          "height": 233
        },
        "outputId": "f84236dd-34de-454f-8b36-13f082855bf3"
      },
      "source": [
        "df.tail(5)"
      ],
      "execution_count": 61,
      "outputs": [
        {
          "output_type": "execute_result",
          "data": {
            "text/html": [
              "<div>\n",
              "<style scoped>\n",
              "    .dataframe tbody tr th:only-of-type {\n",
              "        vertical-align: middle;\n",
              "    }\n",
              "\n",
              "    .dataframe tbody tr th {\n",
              "        vertical-align: top;\n",
              "    }\n",
              "\n",
              "    .dataframe thead th {\n",
              "        text-align: right;\n",
              "    }\n",
              "</style>\n",
              "<table border=\"1\" class=\"dataframe\">\n",
              "  <thead>\n",
              "    <tr style=\"text-align: right;\">\n",
              "      <th></th>\n",
              "      <th>15 min</th>\n",
              "      <th>Date</th>\n",
              "      <th>@timestamp per 15 minutes</th>\n",
              "      <th>SJC</th>\n",
              "      <th>DFW</th>\n",
              "      <th>Total</th>\n",
              "      <th>Time</th>\n",
              "      <th>Weekday</th>\n",
              "    </tr>\n",
              "    <tr>\n",
              "      <th>Time</th>\n",
              "      <th></th>\n",
              "      <th></th>\n",
              "      <th></th>\n",
              "      <th></th>\n",
              "      <th></th>\n",
              "      <th></th>\n",
              "      <th></th>\n",
              "      <th></th>\n",
              "    </tr>\n",
              "  </thead>\n",
              "  <tbody>\n",
              "    <tr>\n",
              "      <th>2020-03-22 22:45:00</th>\n",
              "      <td>668</td>\n",
              "      <td>2020-03-22</td>\n",
              "      <td>22:45:00</td>\n",
              "      <td>3925</td>\n",
              "      <td>4963</td>\n",
              "      <td>15358</td>\n",
              "      <td>2020-03-22 22:45:00</td>\n",
              "      <td>False</td>\n",
              "    </tr>\n",
              "    <tr>\n",
              "      <th>2020-03-22 23:00:00</th>\n",
              "      <td>669</td>\n",
              "      <td>2020-03-22</td>\n",
              "      <td>23:00:00</td>\n",
              "      <td>3619</td>\n",
              "      <td>4036</td>\n",
              "      <td>13573</td>\n",
              "      <td>2020-03-22 23:00:00</td>\n",
              "      <td>False</td>\n",
              "    </tr>\n",
              "    <tr>\n",
              "      <th>2020-03-22 23:15:00</th>\n",
              "      <td>670</td>\n",
              "      <td>2020-03-22</td>\n",
              "      <td>23:15:00</td>\n",
              "      <td>3875</td>\n",
              "      <td>4399</td>\n",
              "      <td>14295</td>\n",
              "      <td>2020-03-22 23:15:00</td>\n",
              "      <td>False</td>\n",
              "    </tr>\n",
              "    <tr>\n",
              "      <th>2020-03-22 23:30:00</th>\n",
              "      <td>671</td>\n",
              "      <td>2020-03-22</td>\n",
              "      <td>23:30:00</td>\n",
              "      <td>3598</td>\n",
              "      <td>4061</td>\n",
              "      <td>13572</td>\n",
              "      <td>2020-03-22 23:30:00</td>\n",
              "      <td>False</td>\n",
              "    </tr>\n",
              "    <tr>\n",
              "      <th>2020-03-22 23:45:00</th>\n",
              "      <td>672</td>\n",
              "      <td>2020-03-22</td>\n",
              "      <td>23:45:00</td>\n",
              "      <td>3879</td>\n",
              "      <td>5481</td>\n",
              "      <td>16363</td>\n",
              "      <td>2020-03-22 23:45:00</td>\n",
              "      <td>False</td>\n",
              "    </tr>\n",
              "  </tbody>\n",
              "</table>\n",
              "</div>"
            ],
            "text/plain": [
              "                     15 min       Date  ...                Time  Weekday\n",
              "Time                                    ...                             \n",
              "2020-03-22 22:45:00     668 2020-03-22  ... 2020-03-22 22:45:00    False\n",
              "2020-03-22 23:00:00     669 2020-03-22  ... 2020-03-22 23:00:00    False\n",
              "2020-03-22 23:15:00     670 2020-03-22  ... 2020-03-22 23:15:00    False\n",
              "2020-03-22 23:30:00     671 2020-03-22  ... 2020-03-22 23:30:00    False\n",
              "2020-03-22 23:45:00     672 2020-03-22  ... 2020-03-22 23:45:00    False\n",
              "\n",
              "[5 rows x 8 columns]"
            ]
          },
          "metadata": {
            "tags": []
          },
          "execution_count": 61
        }
      ]
    },
    {
      "cell_type": "code",
      "metadata": {
        "id": "MQzBowWc6EPy",
        "colab_type": "code",
        "colab": {
          "base_uri": "https://localhost:8080/",
          "height": 139
        },
        "outputId": "04bf5b9d-35bd-4662-f6c9-3cbe78381f65"
      },
      "source": [
        "df[\"Date\"] = df[\"Date\"].astype(str)\n",
        "df['@timestamp per 15 minutes'] = df['@timestamp per 15 minutes'].astype(str)\n",
        "df.dtypes"
      ],
      "execution_count": 11,
      "outputs": [
        {
          "output_type": "execute_result",
          "data": {
            "text/plain": [
              "15 min                        int64\n",
              "Date                         object\n",
              "@timestamp per 15 minutes    object\n",
              "SJC                           int64\n",
              "DFW                           int64\n",
              "Total                         int64\n",
              "dtype: object"
            ]
          },
          "metadata": {
            "tags": []
          },
          "execution_count": 11
        }
      ]
    },
    {
      "cell_type": "code",
      "metadata": {
        "id": "nGtDkkJd5mO3",
        "colab_type": "code",
        "colab": {}
      },
      "source": [
        "df[\"Time\"] = pd.to_datetime(df['Date'] + ' ' + df['@timestamp per 15 minutes'])"
      ],
      "execution_count": 12,
      "outputs": []
    },
    {
      "cell_type": "code",
      "metadata": {
        "id": "HR5FWLh86ZqR",
        "colab_type": "code",
        "colab": {}
      },
      "source": [
        "df[\"Date\"] = pd.to_datetime(df[\"Date\"])"
      ],
      "execution_count": 31,
      "outputs": []
    },
    {
      "cell_type": "code",
      "metadata": {
        "id": "lIYbysOH7QNn",
        "colab_type": "code",
        "colab": {}
      },
      "source": [
        "def f(x):\n",
        "    #x['Total']=x['Total']/100\n",
        "    return x[1].weekday() < 5"
      ],
      "execution_count": 32,
      "outputs": []
    },
    {
      "cell_type": "code",
      "metadata": {
        "id": "y3BjGHD07rGT",
        "colab_type": "code",
        "colab": {}
      },
      "source": [
        "workday = df.apply(f, axis=1)\n",
        "workday.name = \"Weekday\"\n",
        "df = df.join(workday)"
      ],
      "execution_count": 36,
      "outputs": []
    },
    {
      "cell_type": "code",
      "metadata": {
        "id": "gEbIcp-O89hQ",
        "colab_type": "code",
        "colab": {
          "base_uri": "https://localhost:8080/",
          "height": 303
        },
        "outputId": "aa9b920b-5a2e-4999-f5b2-668c1d615f89"
      },
      "source": [
        "#@title Numpy Panda: Daily chart /weekday chart, weekend chart. [group by] Weekly chart\n",
        "import matplotlib.pyplot as plt\n",
        "\n",
        "def chart(time, df, place):\n",
        "  temp = df[[place, \"Time\"]]\n",
        "  temp.index = temp[\"Time\"]\n",
        "  temp.resample(time).mean().plot(figsize=(15,4))\n",
        "  return \n",
        "\n",
        "# example\n",
        "chart('15min', df, \"SJC\")\n"
      ],
      "execution_count": 60,
      "outputs": [
        {
          "output_type": "display_data",
          "data": {
            "image/png": "[encoded data removed]",
            "text/plain": [
              "<Figure size 1080x288 with 1 Axes>"
            ]
          },
          "metadata": {
            "tags": [],
            "needs_background": "light"
          }
        }
      ]
    },
    {
      "cell_type": "code",
      "metadata": {
        "id": "arfOhJ2TAnaP",
        "colab_type": "code",
        "colab": {
          "base_uri": "https://localhost:8080/",
          "height": 233
        },
        "outputId": "b4a3e43f-aca9-4650-de2a-0a0fc4a69358"
      },
      "source": [
        "def f2(x):\n",
        "    #x['Total']=x['Total']/100\n",
        "    return x[1].weekday()\n",
        "weekDay = df.apply(f2, axis=1)\n",
        "weekDay.name = \"weekDay\"\n",
        "df = df.join(weekDay)\n",
        "df.head()"
      ],
      "execution_count": 66,
      "outputs": [
        {
          "output_type": "execute_result",
          "data": {
            "text/html": [
              "<div>\n",
              "<style scoped>\n",
              "    .dataframe tbody tr th:only-of-type {\n",
              "        vertical-align: middle;\n",
              "    }\n",
              "\n",
              "    .dataframe tbody tr th {\n",
              "        vertical-align: top;\n",
              "    }\n",
              "\n",
              "    .dataframe thead th {\n",
              "        text-align: right;\n",
              "    }\n",
              "</style>\n",
              "<table border=\"1\" class=\"dataframe\">\n",
              "  <thead>\n",
              "    <tr style=\"text-align: right;\">\n",
              "      <th></th>\n",
              "      <th>15 min</th>\n",
              "      <th>Date</th>\n",
              "      <th>@timestamp per 15 minutes</th>\n",
              "      <th>SJC</th>\n",
              "      <th>DFW</th>\n",
              "      <th>Total</th>\n",
              "      <th>Time</th>\n",
              "      <th>Weekday</th>\n",
              "      <th>weekDay</th>\n",
              "    </tr>\n",
              "    <tr>\n",
              "      <th>Time</th>\n",
              "      <th></th>\n",
              "      <th></th>\n",
              "      <th></th>\n",
              "      <th></th>\n",
              "      <th></th>\n",
              "      <th></th>\n",
              "      <th></th>\n",
              "      <th></th>\n",
              "      <th></th>\n",
              "    </tr>\n",
              "  </thead>\n",
              "  <tbody>\n",
              "    <tr>\n",
              "      <th>2020-03-16 00:00:00</th>\n",
              "      <td>1</td>\n",
              "      <td>2020-03-16</td>\n",
              "      <td>00:00:00</td>\n",
              "      <td>5835</td>\n",
              "      <td>2765</td>\n",
              "      <td>12434</td>\n",
              "      <td>2020-03-16 00:00:00</td>\n",
              "      <td>True</td>\n",
              "      <td>0</td>\n",
              "    </tr>\n",
              "    <tr>\n",
              "      <th>2020-03-16 00:15:00</th>\n",
              "      <td>2</td>\n",
              "      <td>2020-03-16</td>\n",
              "      <td>00:15:00</td>\n",
              "      <td>6226</td>\n",
              "      <td>2989</td>\n",
              "      <td>13207</td>\n",
              "      <td>2020-03-16 00:15:00</td>\n",
              "      <td>True</td>\n",
              "      <td>0</td>\n",
              "    </tr>\n",
              "    <tr>\n",
              "      <th>2020-03-16 00:30:00</th>\n",
              "      <td>3</td>\n",
              "      <td>2020-03-16</td>\n",
              "      <td>00:30:00</td>\n",
              "      <td>5940</td>\n",
              "      <td>2595</td>\n",
              "      <td>12398</td>\n",
              "      <td>2020-03-16 00:30:00</td>\n",
              "      <td>True</td>\n",
              "      <td>0</td>\n",
              "    </tr>\n",
              "    <tr>\n",
              "      <th>2020-03-16 00:45:00</th>\n",
              "      <td>4</td>\n",
              "      <td>2020-03-16</td>\n",
              "      <td>00:45:00</td>\n",
              "      <td>7470</td>\n",
              "      <td>3548</td>\n",
              "      <td>15471</td>\n",
              "      <td>2020-03-16 00:45:00</td>\n",
              "      <td>True</td>\n",
              "      <td>0</td>\n",
              "    </tr>\n",
              "    <tr>\n",
              "      <th>2020-03-16 01:00:00</th>\n",
              "      <td>5</td>\n",
              "      <td>2020-03-16</td>\n",
              "      <td>01:00:00</td>\n",
              "      <td>6496</td>\n",
              "      <td>2838</td>\n",
              "      <td>13214</td>\n",
              "      <td>2020-03-16 01:00:00</td>\n",
              "      <td>True</td>\n",
              "      <td>0</td>\n",
              "    </tr>\n",
              "  </tbody>\n",
              "</table>\n",
              "</div>"
            ],
            "text/plain": [
              "                     15 min       Date  ... Weekday  weekDay\n",
              "Time                                    ...                 \n",
              "2020-03-16 00:00:00       1 2020-03-16  ...    True        0\n",
              "2020-03-16 00:15:00       2 2020-03-16  ...    True        0\n",
              "2020-03-16 00:30:00       3 2020-03-16  ...    True        0\n",
              "2020-03-16 00:45:00       4 2020-03-16  ...    True        0\n",
              "2020-03-16 01:00:00       5 2020-03-16  ...    True        0\n",
              "\n",
              "[5 rows x 9 columns]"
            ]
          },
          "metadata": {
            "tags": []
          },
          "execution_count": 66
        }
      ]
    },
    {
      "cell_type": "code",
      "metadata": {
        "id": "ViQVJhr8DVh7",
        "colab_type": "code",
        "colab": {
          "base_uri": "https://localhost:8080/",
          "height": 279
        },
        "outputId": "572d2b2f-bfe7-4815-91d8-0db62bae4df9"
      },
      "source": [
        "#@title Weekly chart\n",
        "import seaborn as sns\n",
        "sns.barplot(data=df_week[(df_week[\"weekDay\"] != 0) & (df_week[\"weekDay\"] != 6) ], x=\"weekDay\", y =\"SJC\")\n",
        "plt.xticks(np.arange(5), [\"Monday\", \"Tuesday\", \"Wednesday\", \"Thursday\", \"Friday\"])\n",
        "# Show graphic\n",
        "plt.show()\n"
      ],
      "execution_count": 93,
      "outputs": [
        {
          "output_type": "display_data",
          "data": {
            "image/png": "[encoded data removed]",
            "text/plain": [
              "<Figure size 432x288 with 1 Axes>"
            ]
          },
          "metadata": {
            "tags": [],
            "needs_background": "light"
          }
        }
      ]
    }
  ]
}