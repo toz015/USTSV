{
  "nbformat": 4,
  "nbformat_minor": 0,
  "metadata": {
    "colab": {
      "name": "HW3.ipynb",
      "provenance": [],
      "authorship_tag": "ABX9TyNinw9c4UHZg9HL8KjXxdZs",
      "include_colab_link": true
    },
    "kernelspec": {
      "name": "python3",
      "display_name": "Python 3"
    }
  },
  "cells": [
    {
      "cell_type": "markdown",
      "metadata": {
        "id": "view-in-github",
        "colab_type": "text"
      },
      "source": [
        "<a href=\"https://colab.research.google.com/github/toz015/USTSV/blob/master/HW3.ipynb\" target=\"_parent\"><img src=\"https://colab.research.google.com/assets/colab-badge.svg\" alt=\"Open In Colab\"/></a>"
      ]
    },
    {
      "cell_type": "code",
      "metadata": {
        "id": "2Kw0frCFhuJK",
        "colab_type": "code",
        "colab": {}
      },
      "source": [
        "#@title import package\n",
        "import numpy as np\n",
        "import pandas as pd"
      ],
      "execution_count": 27,
      "outputs": []
    },
    {
      "cell_type": "markdown",
      "metadata": {
        "id": "zK7zjeK2hwY6",
        "colab_type": "text"
      },
      "source": [
        "Review:\n",
        "\n",
        "frame.apply(function)\n",
        "\n",
        "\n",
        "a | b | c | d| e\n",
        "---| --- | --- | --- | --- |\n",
        "1 | 3 | 3 | 9 | abcd\n",
        "4 | 8 | 2 | 9 | cabd\n",
        "9 | 7 | 3 | 4 | cdba\n",
        "\n",
        "\n",
        "Give a dataframe of abcd, Try to generate column e, to have the column sorted list.\n"
      ]
    },
    {
      "cell_type": "code",
      "metadata": {
        "id": "fTRY1wyHh55q",
        "colab_type": "code",
        "colab": {}
      },
      "source": [
        "df = pd.DataFrame(data = np.array([1, 3, 3, 9, 4, 8, 2, 9, 9, 7, 3, 4]).reshape(3, 4), columns = [\"a\", \"b\", \"c\", \"d\"])"
      ],
      "execution_count": 28,
      "outputs": []
    },
    {
      "cell_type": "code",
      "metadata": {
        "id": "i6Nu84LGlbyI",
        "colab_type": "code",
        "colab": {}
      },
      "source": [
        "def sort_line(lst):\n",
        "  lst2 = [\"a\", \"b\", \"c\", \"d\"]\n",
        "  dic = dict(zip([0, 1, 2, 3],lst))\n",
        "  dic = {k: v for k, v in sorted(dic.items(), key=lambda item: item[1])}\n",
        "  value = \"\"\n",
        "  for key, val in dic.items():\n",
        "    value += lst2[key]\n",
        "  return value\n"
      ],
      "execution_count": 29,
      "outputs": []
    },
    {
      "cell_type": "code",
      "metadata": {
        "id": "exAA_IUxj3hs",
        "colab_type": "code",
        "colab": {}
      },
      "source": [
        "df['e'] = df.apply(lambda x: sort_line(x), axis=1)"
      ],
      "execution_count": 30,
      "outputs": []
    },
    {
      "cell_type": "code",
      "metadata": {
        "id": "p9iZDMb3lVoX",
        "colab_type": "code",
        "colab": {
          "base_uri": "https://localhost:8080/",
          "height": 141
        },
        "outputId": "6aefad46-1860-4147-e5a4-062696e5a4c3"
      },
      "source": [
        "df"
      ],
      "execution_count": 31,
      "outputs": [
        {
          "output_type": "execute_result",
          "data": {
            "text/html": [
              "<div>\n",
              "<style scoped>\n",
              "    .dataframe tbody tr th:only-of-type {\n",
              "        vertical-align: middle;\n",
              "    }\n",
              "\n",
              "    .dataframe tbody tr th {\n",
              "        vertical-align: top;\n",
              "    }\n",
              "\n",
              "    .dataframe thead th {\n",
              "        text-align: right;\n",
              "    }\n",
              "</style>\n",
              "<table border=\"1\" class=\"dataframe\">\n",
              "  <thead>\n",
              "    <tr style=\"text-align: right;\">\n",
              "      <th></th>\n",
              "      <th>a</th>\n",
              "      <th>b</th>\n",
              "      <th>c</th>\n",
              "      <th>d</th>\n",
              "      <th>e</th>\n",
              "    </tr>\n",
              "  </thead>\n",
              "  <tbody>\n",
              "    <tr>\n",
              "      <th>0</th>\n",
              "      <td>1</td>\n",
              "      <td>3</td>\n",
              "      <td>3</td>\n",
              "      <td>9</td>\n",
              "      <td>abcd</td>\n",
              "    </tr>\n",
              "    <tr>\n",
              "      <th>1</th>\n",
              "      <td>4</td>\n",
              "      <td>8</td>\n",
              "      <td>2</td>\n",
              "      <td>9</td>\n",
              "      <td>cabd</td>\n",
              "    </tr>\n",
              "    <tr>\n",
              "      <th>2</th>\n",
              "      <td>9</td>\n",
              "      <td>7</td>\n",
              "      <td>3</td>\n",
              "      <td>4</td>\n",
              "      <td>cdba</td>\n",
              "    </tr>\n",
              "  </tbody>\n",
              "</table>\n",
              "</div>"
            ],
            "text/plain": [
              "   a  b  c  d     e\n",
              "0  1  3  3  9  abcd\n",
              "1  4  8  2  9  cabd\n",
              "2  9  7  3  4  cdba"
            ]
          },
          "metadata": {
            "tags": []
          },
          "execution_count": 31
        }
      ]
    }
  ]
}