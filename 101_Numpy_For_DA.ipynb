{
  "nbformat": 4,
  "nbformat_minor": 0,
  "metadata": {
    "colab": {
      "name": "101_Numpy_For_DA.ipynb",
      "provenance": [],
      "authorship_tag": "ABX9TyOce2IUWSCaNDsgXpIL0HuE",
      "include_colab_link": true
    },
    "kernelspec": {
      "name": "python3",
      "display_name": "Python 3"
    }
  },
  "cells": [
    {
      "cell_type": "markdown",
      "metadata": {
        "id": "view-in-github",
        "colab_type": "text"
      },
      "source": [
        "<a href=\"https://colab.research.google.com/github/toz015/USTSV/blob/master/101_Numpy_For_DA.ipynb\" target=\"_parent\"><img src=\"https://colab.research.google.com/assets/colab-badge.svg\" alt=\"Open In Colab\"/></a>"
      ]
    },
    {
      "cell_type": "markdown",
      "metadata": {
        "id": "ogqXS1cGtJH3",
        "colab_type": "text"
      },
      "source": [
        "###101 NumPy Exercises for Data Analysis\n",
        "The goal of the numpy exercises is to serve as a reference as well as to get you to apply numpy beyond the basics. The questions are of 4 levels of difficulties with L1 being the easiest to L4 being the hardest."
      ]
    },
    {
      "cell_type": "code",
      "metadata": {
        "id": "Q2pVBhPSrU0N",
        "colab_type": "code",
        "colab": {
          "base_uri": "https://localhost:8080/",
          "height": 35
        },
        "outputId": "def50137-4dbd-438e-f379-1dd92f51236a"
      },
      "source": [
        "#@title 1. Import numpy as np and see the version\n",
        "import numpy as np \n",
        "print(np.__version__)\n"
      ],
      "execution_count": null,
      "outputs": [
        {
          "output_type": "stream",
          "text": [
            "1.18.5\n"
          ],
          "name": "stdout"
        }
      ]
    },
    {
      "cell_type": "code",
      "metadata": {
        "id": "jHj0fkxXtsKg",
        "colab_type": "code",
        "colab": {
          "base_uri": "https://localhost:8080/",
          "height": 87
        },
        "outputId": "b88e2461-cf3a-4581-c890-9e74810abeb1"
      },
      "source": [
        "#@title 2. Create a 1D array of numbers from 0 to 9\n",
        "print(\"Sol1:\")\n",
        "print(np.array([i for i in range(10)]))\n",
        "print(\"Sol2:\")\n",
        "print(np.arange(10))"
      ],
      "execution_count": null,
      "outputs": [
        {
          "output_type": "stream",
          "text": [
            "Sol1:\n",
            "[0 1 2 3 4 5 6 7 8 9]\n",
            "Sol2:\n",
            "[0 1 2 3 4 5 6 7 8 9]\n"
          ],
          "name": "stdout"
        }
      ]
    },
    {
      "cell_type": "code",
      "metadata": {
        "id": "ECdI2iOjuAhW",
        "colab_type": "code",
        "colab": {
          "base_uri": "https://localhost:8080/",
          "height": 225
        },
        "outputId": "ba0ab626-8637-44d6-ba18-151f7d2cf0fb"
      },
      "source": [
        "#@title 3. Create a 3×3 numpy array of all True’s\n",
        "print(\"Sol1:\")\n",
        "print(np.array([True] * 9).reshape(3, 3))\n",
        "print(\"Sol2:\")\n",
        "print(np.full((3, 3), True, dtype=bool))\n",
        "print(\"Sol3:\")\n",
        "print(np.ones((3,3), dtype=bool))"
      ],
      "execution_count": null,
      "outputs": [
        {
          "output_type": "stream",
          "text": [
            "Sol1:\n",
            "[[ True  True  True]\n",
            " [ True  True  True]\n",
            " [ True  True  True]]\n",
            "Sol2:\n",
            "[[ True  True  True]\n",
            " [ True  True  True]\n",
            " [ True  True  True]]\n",
            "Sol3:\n",
            "[[ True  True  True]\n",
            " [ True  True  True]\n",
            " [ True  True  True]]\n"
          ],
          "name": "stdout"
        }
      ]
    },
    {
      "cell_type": "code",
      "metadata": {
        "id": "zXl6t0nSuz1K",
        "colab_type": "code",
        "colab": {
          "base_uri": "https://localhost:8080/",
          "height": 35
        },
        "outputId": "9ba68e58-f5ac-4e4a-c027-3ac769a457d7"
      },
      "source": [
        "#@title 4. Extract all odd numbers from arr\n",
        "arr = np.array([0, 1, 2, 3, 4, 5, 6, 7, 8, 9])\n",
        "print(arr[arr % 2 == 1])"
      ],
      "execution_count": null,
      "outputs": [
        {
          "output_type": "stream",
          "text": [
            "[1 3 5 7 9]\n"
          ],
          "name": "stdout"
        }
      ]
    },
    {
      "cell_type": "code",
      "metadata": {
        "id": "rB5Y5YrXwA-u",
        "colab_type": "code",
        "colab": {
          "base_uri": "https://localhost:8080/",
          "height": 35
        },
        "outputId": "a150e8bd-609c-4a6b-b2e5-7d003508d698"
      },
      "source": [
        "#@title 5. Replace all odd numbers in arr with -1\n",
        "arr[arr % 2 == 1] = -1\n",
        "print(arr)"
      ],
      "execution_count": null,
      "outputs": [
        {
          "output_type": "stream",
          "text": [
            "[ 0 -1  2 -1  4 -1  6 -1  8 -1]\n"
          ],
          "name": "stdout"
        }
      ]
    },
    {
      "cell_type": "code",
      "metadata": {
        "id": "1wPeZ2XIwa1e",
        "colab_type": "code",
        "colab": {
          "base_uri": "https://localhost:8080/",
          "height": 52
        },
        "outputId": "953980e2-881c-4cf4-fea5-415c7ce8917c"
      },
      "source": [
        "#@title 6. How to replace items that satisfy a condition without affecting the original array?\n",
        "#Replace all odd numbers in arr with -1 without changing arr\n",
        "arr = np.arange(10)\n",
        "out = np.where(arr % 2 == 1, -1, arr)\n",
        "print(arr)\n",
        "print(out)"
      ],
      "execution_count": null,
      "outputs": [
        {
          "output_type": "stream",
          "text": [
            "[0 1 2 3 4 5 6 7 8 9]\n",
            "[ 0 -1  2 -1  4 -1  6 -1  8 -1]\n"
          ],
          "name": "stdout"
        }
      ]
    },
    {
      "cell_type": "code",
      "metadata": {
        "id": "t3kPRy5yw4T0",
        "colab_type": "code",
        "colab": {
          "base_uri": "https://localhost:8080/",
          "height": 121
        },
        "outputId": "e3b1cf46-f408-4a6e-d55d-8e7f2f66b59d"
      },
      "source": [
        "#@title 7. How to reshape an array?\n",
        "#Convert a 1D array to a 2D array with 2 rows\n",
        "print(\"sol1:\")\n",
        "print(np.arange(10).reshape(2, 5))\n",
        "print(\"sol2:\")\n",
        "print(np.arange(10).reshape(2, -1))"
      ],
      "execution_count": null,
      "outputs": [
        {
          "output_type": "stream",
          "text": [
            "sol1:\n",
            "[[0 1 2 3 4]\n",
            " [5 6 7 8 9]]\n",
            "sol2:\n",
            "[[0 1 2 3 4]\n",
            " [5 6 7 8 9]]\n"
          ],
          "name": "stdout"
        }
      ]
    },
    {
      "cell_type": "code",
      "metadata": {
        "id": "zvlPH53RxfJi",
        "colab_type": "code",
        "colab": {
          "base_uri": "https://localhost:8080/",
          "height": 277
        },
        "outputId": "d70fa930-d01b-47db-e205-8e05f74aee85"
      },
      "source": [
        "#@title 8. How to stack two arrays vertically?\n",
        "#Stack arrays a and b vertically\n",
        "a = np.arange(10).reshape(2,-1)\n",
        "b = np.repeat(1, 10).reshape(2,-1)\n",
        "print(\"sol1:\")\n",
        "print(np.concatenate([a, b], axis=0))\n",
        "print(\"sol2:\")\n",
        "print(np.vstack([a, b]))\n",
        "print(\"sol3:\")\n",
        "print(np.r_[a, b])"
      ],
      "execution_count": null,
      "outputs": [
        {
          "output_type": "stream",
          "text": [
            "sol1:\n",
            "[[0 1 2 3 4]\n",
            " [5 6 7 8 9]\n",
            " [1 1 1 1 1]\n",
            " [1 1 1 1 1]]\n",
            "sol2:\n",
            "[[0 1 2 3 4]\n",
            " [5 6 7 8 9]\n",
            " [1 1 1 1 1]\n",
            " [1 1 1 1 1]]\n",
            "sol3:\n",
            "[[0 1 2 3 4]\n",
            " [5 6 7 8 9]\n",
            " [1 1 1 1 1]\n",
            " [1 1 1 1 1]]\n"
          ],
          "name": "stdout"
        }
      ]
    },
    {
      "cell_type": "code",
      "metadata": {
        "id": "ouQ1TRl0yYqB",
        "colab_type": "code",
        "colab": {
          "base_uri": "https://localhost:8080/",
          "height": 173
        },
        "outputId": "29340422-3bd0-4e69-a3e8-efe2b4f9f947"
      },
      "source": [
        "#@title 9. How to stack two arrays horizontally?\n",
        "print(\"sol1:\")\n",
        "print(np.concatenate([a, b], axis = 1))\n",
        "print(\"sol2:\")\n",
        "print(np.hstack([a, b]))\n",
        "print(\"sol3:\")\n",
        "print(np.c_[a, b])"
      ],
      "execution_count": null,
      "outputs": [
        {
          "output_type": "stream",
          "text": [
            "sol1:\n",
            "[[0 1 2 3 4 1 1 1 1 1]\n",
            " [5 6 7 8 9 1 1 1 1 1]]\n",
            "sol2:\n",
            "[[0 1 2 3 4 1 1 1 1 1]\n",
            " [5 6 7 8 9 1 1 1 1 1]]\n",
            "sol3:\n",
            "[[0 1 2 3 4 1 1 1 1 1]\n",
            " [5 6 7 8 9 1 1 1 1 1]]\n"
          ],
          "name": "stdout"
        }
      ]
    },
    {
      "cell_type": "code",
      "metadata": {
        "id": "im-4XPJcy10V",
        "colab_type": "code",
        "colab": {
          "base_uri": "https://localhost:8080/",
          "height": 35
        },
        "outputId": "a28c3fe5-f0f0-4f79-91bc-af79c4597cb6"
      },
      "source": [
        "#@title 10. How to generate custom sequences in numpy without hardcoding?\n",
        "a = np.array([1,2,3])\n",
        "print(np.r_[np.repeat(a, 3), np.tile(a, 3)])"
      ],
      "execution_count": null,
      "outputs": [
        {
          "output_type": "stream",
          "text": [
            "[1 1 1 2 2 2 3 3 3 1 2 3 1 2 3 1 2 3]\n"
          ],
          "name": "stdout"
        }
      ]
    },
    {
      "cell_type": "code",
      "metadata": {
        "id": "1Gyw4X1nz2M6",
        "colab_type": "code",
        "colab": {
          "base_uri": "https://localhost:8080/",
          "height": 35
        },
        "outputId": "3047de26-42f0-4a18-ff9b-faa5072667d7"
      },
      "source": [
        "#@title 11. How to get the common items between two python numpy arrays?\n",
        "a = np.array([1,2,3,2,3,4,3,4,5,6])\n",
        "b = np.array([7,2,10,2,7,4,9,4,9,8])\n",
        "print(np.intersect1d(a, b))"
      ],
      "execution_count": null,
      "outputs": [
        {
          "output_type": "stream",
          "text": [
            "[2 4]\n"
          ],
          "name": "stdout"
        }
      ]
    },
    {
      "cell_type": "code",
      "metadata": {
        "id": "uo6clZk-12E1",
        "colab_type": "code",
        "colab": {
          "base_uri": "https://localhost:8080/",
          "height": 35
        },
        "outputId": "38a029ae-0d13-4b3d-a862-d64f06c9d69b"
      },
      "source": [
        "#@title 12. How to remove from one array those items that exist in another?\n",
        "print(np.setdiff1d(a, b))\n",
        "\n"
      ],
      "execution_count": null,
      "outputs": [
        {
          "output_type": "stream",
          "text": [
            "[1 3 5 6]\n"
          ],
          "name": "stdout"
        }
      ]
    },
    {
      "cell_type": "code",
      "metadata": {
        "id": "FXP32p0S2Ddu",
        "colab_type": "code",
        "colab": {
          "base_uri": "https://localhost:8080/",
          "height": 35
        },
        "outputId": "60c850b1-ae76-4e87-bff1-d7c143e34240"
      },
      "source": [
        "#@title 13. How to get the positions where elements of two arrays match?\n",
        "np.where(a == b)"
      ],
      "execution_count": null,
      "outputs": [
        {
          "output_type": "execute_result",
          "data": {
            "text/plain": [
              "(array([1, 3, 5, 7]),)"
            ]
          },
          "metadata": {
            "tags": []
          },
          "execution_count": 14
        }
      ]
    },
    {
      "cell_type": "code",
      "metadata": {
        "id": "xBswnkDJ2UEc",
        "colab_type": "code",
        "colab": {
          "base_uri": "https://localhost:8080/",
          "height": 121
        },
        "outputId": "bf1c9e96-aac9-43c5-c1e1-d2638a8402c5"
      },
      "source": [
        "#@title 14. How to extract all numbers between a given range from a numpy array?\n",
        "#Get all items between 5 and 10 from a.\n",
        "a = np.array([2, 6, 1, 9, 10, 3, 27])\n",
        "print(\"sol1:\")\n",
        "index = np.where((5 <= a) & (a <= 10))\n",
        "print(a[index])\n",
        "print(\"sol2:\")\n",
        "index = np.where(np.logical_and(a>=5, a<=10))\n",
        "print(a[index])\n",
        "print(\"sol3:\")\n",
        "print(a[(a >= 5) & (a <= 10)])"
      ],
      "execution_count": null,
      "outputs": [
        {
          "output_type": "stream",
          "text": [
            "sol1:\n",
            "[ 6  9 10]\n",
            "sol2:\n",
            "[ 6  9 10]\n",
            "sol3:\n",
            "[ 6  9 10]\n"
          ],
          "name": "stdout"
        }
      ]
    },
    {
      "cell_type": "code",
      "metadata": {
        "id": "_1V3Yjd63JsB",
        "colab_type": "code",
        "colab": {
          "base_uri": "https://localhost:8080/",
          "height": 35
        },
        "outputId": "5838b5e6-71ef-4735-bd81-987492e50413"
      },
      "source": [
        "#@title 15. How to make a python function that handles scalars to work on numpy arrays?\n",
        "# Convert the function maxx that works on two scalars, to work on two arrays.\n",
        "def maxx(x, y):\n",
        "  \"\"\"Get the maximum of two items\"\"\"\n",
        "  if x >= y:\n",
        "      return x\n",
        "  else:\n",
        "      return y\n",
        "pair_max = np.vectorize(maxx, otypes=[float])\n",
        "\n",
        "a = np.array([5, 7, 9, 8, 6, 4, 5])\n",
        "b = np.array([6, 3, 4, 8, 9, 7, 1])\n",
        "\n",
        "print(pair_max(a, b))"
      ],
      "execution_count": null,
      "outputs": [
        {
          "output_type": "stream",
          "text": [
            "[6. 7. 9. 8. 9. 7. 5.]\n"
          ],
          "name": "stdout"
        }
      ]
    },
    {
      "cell_type": "code",
      "metadata": {
        "id": "4gSZ3L8V39i7",
        "colab_type": "code",
        "colab": {
          "base_uri": "https://localhost:8080/",
          "height": 139
        },
        "outputId": "debf81c3-4bd4-4a38-ebd9-d41c3ba94283"
      },
      "source": [
        "#@title 16. How to swap two columns in a 2d numpy array?\n",
        "#Swap columns 1 and 2 in the array arr.\n",
        "arr = np.arange(9).reshape(3,3)\n",
        "print(arr)\n",
        "print(\"sol:\")\n",
        "print(arr[:, [1, 0 , 2]])\n",
        "\n"
      ],
      "execution_count": null,
      "outputs": [
        {
          "output_type": "stream",
          "text": [
            "[[0 1 2]\n",
            " [3 4 5]\n",
            " [6 7 8]]\n",
            "sol:\n",
            "[[1 0 2]\n",
            " [4 3 5]\n",
            " [7 6 8]]\n"
          ],
          "name": "stdout"
        }
      ]
    },
    {
      "cell_type": "code",
      "metadata": {
        "id": "18qdwjZD6kW3",
        "colab_type": "code",
        "colab": {
          "base_uri": "https://localhost:8080/",
          "height": 69
        },
        "outputId": "924c5aa4-a9c4-4263-b028-f8fb7425adbe"
      },
      "source": [
        "#@title 17. How to swap two rows in a 2d numpy array?\n",
        "#Swap row 1 and 2 in the array arr.\n",
        "print(arr[[1, 0, 2], :])"
      ],
      "execution_count": null,
      "outputs": [
        {
          "output_type": "stream",
          "text": [
            "[[3 4 5]\n",
            " [0 1 2]\n",
            " [6 7 8]]\n"
          ],
          "name": "stdout"
        }
      ]
    },
    {
      "cell_type": "code",
      "metadata": {
        "id": "VXSZB7AB6wpe",
        "colab_type": "code",
        "colab": {
          "base_uri": "https://localhost:8080/",
          "height": 69
        },
        "outputId": "57289beb-4304-48ce-e4e6-d51ce5735cc7"
      },
      "source": [
        "#@title 18. How to reverse the rows of a 2D array?\n",
        "print(arr[::-1, :])"
      ],
      "execution_count": null,
      "outputs": [
        {
          "output_type": "stream",
          "text": [
            "[[6 7 8]\n",
            " [3 4 5]\n",
            " [0 1 2]]\n"
          ],
          "name": "stdout"
        }
      ]
    },
    {
      "cell_type": "code",
      "metadata": {
        "id": "EAWoTL7o7ITg",
        "colab_type": "code",
        "colab": {
          "base_uri": "https://localhost:8080/",
          "height": 69
        },
        "outputId": "aa573190-19b1-411b-b19e-a48f5cd8f610"
      },
      "source": [
        "#@title 19. How to reverse the columns of a 2D array?\n",
        "print(arr[:, ::-1])"
      ],
      "execution_count": null,
      "outputs": [
        {
          "output_type": "stream",
          "text": [
            "[[2 1 0]\n",
            " [5 4 3]\n",
            " [8 7 6]]\n"
          ],
          "name": "stdout"
        }
      ]
    },
    {
      "cell_type": "code",
      "metadata": {
        "id": "gheIMftU7WP3",
        "colab_type": "code",
        "colab": {
          "base_uri": "https://localhost:8080/",
          "height": 225
        },
        "outputId": "879c23d8-103b-4c0d-f5eb-e9e14dc99601"
      },
      "source": [
        "#@title 20. How to create a 2D array containing random floats between 5 and 10?\n",
        "\n",
        "print(\"sol1:\")\n",
        "# random.random: Return the next random floating point number in the range [0.0, 1.0).\n",
        "rand_arr = np.random.randint(low=5, high=10, size=(5,3)) + np.random.random((5,3))\n",
        "print(rand_arr)\n",
        "print(\"sol2:\")\n",
        "# Solution Method 2:\n",
        "rand_arr = np.random.uniform(5,10, size=(5,3))\n",
        "print(rand_arr)"
      ],
      "execution_count": null,
      "outputs": [
        {
          "output_type": "stream",
          "text": [
            "sol1:\n",
            "[[7.77925251 9.59306302 7.23478114]\n",
            " [6.20066608 7.53067246 8.80216551]\n",
            " [7.94863267 9.6924772  9.89838311]\n",
            " [6.97722573 6.07186376 8.29019093]\n",
            " [7.17863267 9.47490754 8.05532913]]\n",
            "sol2:\n",
            "[[8.22589768 7.96283549 7.983388  ]\n",
            " [8.05232986 6.35051133 7.20112047]\n",
            " [6.74855261 6.67432979 9.35045157]\n",
            " [9.44326386 8.59234105 8.26761077]\n",
            " [9.3239359  9.88150164 9.46519245]]\n"
          ],
          "name": "stdout"
        }
      ]
    },
    {
      "cell_type": "code",
      "metadata": {
        "id": "BlKuXNZK8nhG",
        "colab_type": "code",
        "colab": {
          "base_uri": "https://localhost:8080/",
          "height": 87
        },
        "outputId": "dace822d-3ef5-4fdf-e30e-81e694ce4bf3"
      },
      "source": [
        "#@title 21. How to print only 3 decimal places in python numpy array?\n",
        "rand_arr = np.random.random((5,3))\n",
        "\n",
        "np.set_printoptions(precision=3)\n",
        "rand_arr[:4]\n"
      ],
      "execution_count": null,
      "outputs": [
        {
          "output_type": "execute_result",
          "data": {
            "text/plain": [
              "array([[0.107, 0.486, 0.213],\n",
              "       [0.659, 0.047, 0.903],\n",
              "       [0.483, 0.889, 0.685],\n",
              "       [0.11 , 0.179, 0.62 ]])"
            ]
          },
          "metadata": {
            "tags": []
          },
          "execution_count": 22
        }
      ]
    },
    {
      "cell_type": "code",
      "metadata": {
        "id": "OESM8Tk-530C",
        "colab_type": "code",
        "colab": {
          "base_uri": "https://localhost:8080/",
          "height": 69
        },
        "outputId": "872d8cd9-b64b-4f5b-af15-4e772529f909"
      },
      "source": [
        "#@title 22. How to pretty print a numpy array by suppressing the scientific notation (like 1e10)?\n",
        "np.random.seed(100)\n",
        "rand_arr = np.random.random([3,3])/1e3\n",
        "rand_arr\n"
      ],
      "execution_count": null,
      "outputs": [
        {
          "output_type": "execute_result",
          "data": {
            "text/plain": [
              "array([[5.434e-04, 2.784e-04, 4.245e-04],\n",
              "       [8.448e-04, 4.719e-06, 1.216e-04],\n",
              "       [6.707e-04, 8.259e-04, 1.367e-04]])"
            ]
          },
          "metadata": {
            "tags": []
          },
          "execution_count": 23
        }
      ]
    },
    {
      "cell_type": "code",
      "metadata": {
        "id": "H_AEsNYP6h7i",
        "colab_type": "code",
        "colab": {
          "base_uri": "https://localhost:8080/",
          "height": 35
        },
        "outputId": "202f7976-1a61-46ed-8088-8234a05da7ee"
      },
      "source": [
        "#@title 23. How to limit the number of items printed in output of numpy array?\n",
        "np.set_printoptions(threshold = 6)\n",
        "a = np.arange(15)\n",
        "print(a)"
      ],
      "execution_count": null,
      "outputs": [
        {
          "output_type": "stream",
          "text": [
            "[ 0  1  2 ... 12 13 14]\n"
          ],
          "name": "stdout"
        }
      ]
    },
    {
      "cell_type": "code",
      "metadata": {
        "id": "Soo5bDFd7HXG",
        "colab_type": "code",
        "colab": {
          "base_uri": "https://localhost:8080/",
          "height": 52
        },
        "outputId": "9251f2c9-46e9-435e-fdda-24383c348d33"
      },
      "source": [
        "#@title 24. Print all output of numpy array\n",
        "print(\"sol1:\")\n",
        "np.set_printoptions(threshold = a.size)\n",
        "print(a)\n"
      ],
      "execution_count": null,
      "outputs": [
        {
          "output_type": "stream",
          "text": [
            "sol1:\n",
            "[ 0  1  2  3  4  5  6  7  8  9 10 11 12 13 14]\n"
          ],
          "name": "stdout"
        }
      ]
    },
    {
      "cell_type": "code",
      "metadata": {
        "id": "v0oM9AxA7UZi",
        "colab_type": "code",
        "colab": {
          "base_uri": "https://localhost:8080/",
          "height": 69
        },
        "outputId": "7579b0dd-7aa7-4f0d-91d8-f8b65f2bd95c"
      },
      "source": [
        "#@title 25. How to import a dataset with numbers and texts keeping the text intact in python numpy?\n",
        "url = 'https://archive.ics.uci.edu/ml/machine-learning-databases/iris/iris.data'\n",
        "iris = np.genfromtxt(url, delimiter=',', dtype='object')\n",
        "names = ('sepallength', 'sepalwidth', 'petallength', 'petalwidth', 'species')\n",
        "# Print the first 3 rows\n",
        "iris[:3]"
      ],
      "execution_count": null,
      "outputs": [
        {
          "output_type": "execute_result",
          "data": {
            "text/plain": [
              "array([[b'5.1', b'3.5', b'1.4', b'0.2', b'Iris-setosa'],\n",
              "       [b'4.9', b'3.0', b'1.4', b'0.2', b'Iris-setosa'],\n",
              "       [b'4.7', b'3.2', b'1.3', b'0.2', b'Iris-setosa']], dtype=object)"
            ]
          },
          "metadata": {
            "tags": []
          },
          "execution_count": 26
        }
      ]
    },
    {
      "cell_type": "code",
      "metadata": {
        "id": "jNaIfPcG79Fv",
        "colab_type": "code",
        "colab": {
          "base_uri": "https://localhost:8080/",
          "height": 52
        },
        "outputId": "22a44033-2f81-4e4e-8f9b-605906d5cef7"
      },
      "source": [
        "#@title 26. How to extract a particular column from 1D array of tuples?\n",
        "species = np.array([row[4] for row in iris])\n",
        "species[:5]"
      ],
      "execution_count": null,
      "outputs": [
        {
          "output_type": "execute_result",
          "data": {
            "text/plain": [
              "array([b'Iris-setosa', b'Iris-setosa', b'Iris-setosa', b'Iris-setosa',\n",
              "       b'Iris-setosa'], dtype='|S15')"
            ]
          },
          "metadata": {
            "tags": []
          },
          "execution_count": 27
        }
      ]
    },
    {
      "cell_type": "code",
      "metadata": {
        "id": "TAwo0ggu9cOw",
        "colab_type": "code",
        "colab": {
          "base_uri": "https://localhost:8080/",
          "height": 191
        },
        "outputId": "1b614fc6-8d06-4a49-8edc-ea51f3944ba3"
      },
      "source": [
        "#@title 27. How to convert a 1d array of tuples to a 2d numpy array?\n",
        "print(\"sol1:\")\n",
        "# Method 1: Convert each row to a list and get the first 4 items\n",
        "iris_2d = np.array([row.tolist()[:4] for row in iris])\n",
        "print(iris_2d[:4])\n",
        "print(\"sol2:\")\n",
        "# Alt Method 2: Import only the first 4 columns from source url\n",
        "iris_2d = np.genfromtxt(url, delimiter=',', dtype='float', usecols=[0,1,2,3])\n",
        "print(iris_2d[:4])"
      ],
      "execution_count": null,
      "outputs": [
        {
          "output_type": "stream",
          "text": [
            "sol1:\n",
            "[[b'5.1' b'3.5' b'1.4' b'0.2']\n",
            " [b'4.9' b'3.0' b'1.4' b'0.2']\n",
            " [b'4.7' b'3.2' b'1.3' b'0.2']\n",
            " [b'4.6' b'3.1' b'1.5' b'0.2']]\n",
            "sol2:\n",
            "[[5.1 3.5 1.4 0.2]\n",
            " [4.9 3.  1.4 0.2]\n",
            " [4.7 3.2 1.3 0.2]\n",
            " [4.6 3.1 1.5 0.2]]\n"
          ],
          "name": "stdout"
        }
      ]
    },
    {
      "cell_type": "code",
      "metadata": {
        "id": "W7aIjjon-JMQ",
        "colab_type": "code",
        "colab": {
          "base_uri": "https://localhost:8080/",
          "height": 35
        },
        "outputId": "d53a1381-f16e-41d0-f474-a174c7f4b8c6"
      },
      "source": [
        "#@title 28. How to compute the mean, median, standard deviation of a numpy array?\n",
        "\n",
        "sepallength = np.genfromtxt(url, delimiter=',', dtype='float', usecols=[0])\n",
        "\n",
        "# Solution\n",
        "mu, med, sd = round(np.mean(sepallength), 3), round(np.median(sepallength)), round(np.std(sepallength), 3)\n",
        "print(mu, med, sd)"
      ],
      "execution_count": null,
      "outputs": [
        {
          "output_type": "stream",
          "text": [
            "5.843 6.0 0.825\n"
          ],
          "name": "stdout"
        }
      ]
    },
    {
      "cell_type": "code",
      "metadata": {
        "id": "KJVMpL5Y-fy5",
        "colab_type": "code",
        "colab": {
          "base_uri": "https://localhost:8080/",
          "height": 87
        },
        "outputId": "7cbc0a6c-9d01-430e-e893-6f265628d69e"
      },
      "source": [
        "#@title 29. How to normalize an array so the values range exactly between 0 and 1?\n",
        "print(\"sol1:\")\n",
        "Smax, Smin = sepallength.max(), sepallength.min()\n",
        "S = (sepallength - Smin)/(Smax - Smin)\n",
        "print(S)\n",
        "print(\"sol2:\")\n",
        "S = (sepallength - Smin)/sepallength.ptp()  # Thanks, David Ojeda!\n",
        "print(S)"
      ],
      "execution_count": null,
      "outputs": [
        {
          "output_type": "stream",
          "text": [
            "sol1:\n",
            "[0.222 0.167 0.111 ... 0.611 0.528 0.444]\n",
            "sol2:\n",
            "[0.222 0.167 0.111 ... 0.611 0.528 0.444]\n"
          ],
          "name": "stdout"
        }
      ]
    },
    {
      "cell_type": "code",
      "metadata": {
        "id": "az4OHH3VDt7i",
        "colab_type": "code",
        "colab": {
          "base_uri": "https://localhost:8080/",
          "height": 35
        },
        "outputId": "c2e2a33b-830d-4b6a-c034-dc06ccbddcbd"
      },
      "source": [
        "#@title 30. How to compute the softmax score?\n",
        "\n",
        "def softmax(x):\n",
        "    \"\"\"Compute softmax values for each sets of scores in x.\n",
        "    https://stackoverflow.com/questions/34968722/how-to-implement-the-softmax-function-in-python\"\"\"\n",
        "    e_x = np.exp(x - np.max(x))\n",
        "    return e_x / e_x.sum(axis=0)\n",
        "\n",
        "print(softmax(sepallength))"
      ],
      "execution_count": null,
      "outputs": [
        {
          "output_type": "stream",
          "text": [
            "[0.002 0.002 0.001 ... 0.009 0.007 0.005]\n"
          ],
          "name": "stdout"
        }
      ]
    },
    {
      "cell_type": "code",
      "metadata": {
        "id": "yvDSIQH2D_yR",
        "colab_type": "code",
        "colab": {
          "base_uri": "https://localhost:8080/",
          "height": 35
        },
        "outputId": "6668c39b-3502-4968-c329-a521abdd3b19"
      },
      "source": [
        "#@title 31. How to find the percentile scores of a numpy array?\n",
        "np.percentile(sepallength, [5, 85])"
      ],
      "execution_count": null,
      "outputs": [
        {
          "output_type": "execute_result",
          "data": {
            "text/plain": [
              "array([4.6, 6.7])"
            ]
          },
          "metadata": {
            "tags": []
          },
          "execution_count": 32
        }
      ]
    },
    {
      "cell_type": "code",
      "metadata": {
        "id": "riDIiDEHEVFE",
        "colab_type": "code",
        "colab": {
          "base_uri": "https://localhost:8080/",
          "height": 139
        },
        "outputId": "5e13ee74-e5d7-451b-aa24-ebcc84229986"
      },
      "source": [
        "#@title 32. How to insert values at random positions in an array?\n",
        "# Method 1\n",
        "i, j = np.where(iris_2d)\n",
        "\n",
        "# i, j contain the row numbers and column numbers of 600 elements of iris_x\n",
        "np.random.seed(100)\n",
        "iris_2d[np.random.choice((i), 20), np.random.choice((j), 20)] = np.nan\n",
        "print(iris_2d)\n"
      ],
      "execution_count": null,
      "outputs": [
        {
          "output_type": "stream",
          "text": [
            "[[5.1 3.5 1.4 0.2]\n",
            " [nan 3.  1.4 0.2]\n",
            " [4.7 3.2 1.3 0.2]\n",
            " ...\n",
            " [6.5 3.  5.2 2. ]\n",
            " [6.2 3.4 5.4 2.3]\n",
            " [5.9 3.  5.1 1.8]]\n"
          ],
          "name": "stdout"
        }
      ]
    },
    {
      "cell_type": "code",
      "metadata": {
        "id": "0IKGBIKFFLkb",
        "colab_type": "code",
        "colab": {
          "base_uri": "https://localhost:8080/",
          "height": 87
        },
        "outputId": "55b134f3-d584-4bd1-9771-c8c4e6ea6164"
      },
      "source": [
        "#@title 33. How to find the position of missing values in numpy array?\n",
        "print(\"Number of missing values: \\n\", np.isnan(iris_2d[:, 0]).sum())\n",
        "\n",
        "print(\"Position of missing values: \\n\", np.where(np.isnan(iris_2d[:, 0])))"
      ],
      "execution_count": null,
      "outputs": [
        {
          "output_type": "stream",
          "text": [
            "Number of missing values: \n",
            " 4\n",
            "Position of missing values: \n",
            " (array([ 1, 19, 23, 96]),)\n"
          ],
          "name": "stdout"
        }
      ]
    },
    {
      "cell_type": "code",
      "metadata": {
        "id": "UEPq5NVaFf-n",
        "colab_type": "code",
        "colab": {
          "base_uri": "https://localhost:8080/",
          "height": 121
        },
        "outputId": "9aaae85f-13ce-420d-840f-b629b28011bf"
      },
      "source": [
        "#@title 34. How to filter a numpy array based on two or more conditions?\n",
        "condition = (iris_2d[:, 2] > 1.5) & (iris_2d[:, 0] < 5.0)\n",
        "iris_2d[condition]"
      ],
      "execution_count": null,
      "outputs": [
        {
          "output_type": "execute_result",
          "data": {
            "text/plain": [
              "array([[4.8, 3.4, 1.6, 0.2],\n",
              "       [4.8, 3.4, 1.9, 0.2],\n",
              "       [4.7, 3.2, 1.6, 0.2],\n",
              "       [4.8, 3.1, 1.6, 0.2],\n",
              "       [4.9, 2.4, 3.3, nan],\n",
              "       [4.9, 2.5, 4.5, 1.7]])"
            ]
          },
          "metadata": {
            "tags": []
          },
          "execution_count": 35
        }
      ]
    },
    {
      "cell_type": "code",
      "metadata": {
        "id": "1GI0WsjsFf1y",
        "colab_type": "code",
        "colab": {
          "base_uri": "https://localhost:8080/",
          "height": 225
        },
        "outputId": "861dc560-8687-435b-b48e-081e2a858a6e"
      },
      "source": [
        "#@title 35. How to drop rows that contain a missing value from a numpy array?\n",
        "print(\"sol1:\")\n",
        "any_nan_in_row = np.array([~np.any(np.isnan(row)) for row in iris_2d])\n",
        "print(iris_2d[any_nan_in_row][:5])\n",
        "print(\"sol2:\")\n",
        "# Method 2: (By Rong)\n",
        "print(iris_2d[np.sum(np.isnan(iris_2d), axis = 1) == 0][:5])"
      ],
      "execution_count": null,
      "outputs": [
        {
          "output_type": "stream",
          "text": [
            "sol1:\n",
            "[[5.1 3.5 1.4 0.2]\n",
            " [4.7 3.2 1.3 0.2]\n",
            " [4.6 3.1 1.5 0.2]\n",
            " [5.  3.6 1.4 0.2]\n",
            " [5.4 3.9 1.7 0.4]]\n",
            "sol2:\n",
            "[[5.1 3.5 1.4 0.2]\n",
            " [4.7 3.2 1.3 0.2]\n",
            " [4.6 3.1 1.5 0.2]\n",
            " [5.  3.6 1.4 0.2]\n",
            " [5.4 3.9 1.7 0.4]]\n"
          ],
          "name": "stdout"
        }
      ]
    },
    {
      "cell_type": "code",
      "metadata": {
        "id": "ZVlDmcA8GM1e",
        "colab_type": "code",
        "colab": {
          "base_uri": "https://localhost:8080/",
          "height": 69
        },
        "outputId": "de8650a3-56ef-4f05-a027-3439a730c428"
      },
      "source": [
        "#@title 36. How to find the correlation between two columns of a numpy array?\n",
        "url = 'https://archive.ics.uci.edu/ml/machine-learning-databases/iris/iris.data'\n",
        "iris = np.genfromtxt(url, delimiter=',', dtype='float', usecols=[0,1,2,3])\n",
        "\n",
        "# Solution 1\n",
        "print(np.corrcoef(iris[:, 0], iris[:, 2]))\n",
        "\n",
        "# Solution 2\n",
        "from scipy.stats.stats import pearsonr  \n",
        "corr, p_value = pearsonr(iris[:, 0], iris[:, 2])\n",
        "print(corr)\n"
      ],
      "execution_count": null,
      "outputs": [
        {
          "output_type": "stream",
          "text": [
            "[[1.    0.872]\n",
            " [0.872 1.   ]]\n",
            "0.8717541573048713\n"
          ],
          "name": "stdout"
        }
      ]
    },
    {
      "cell_type": "code",
      "metadata": {
        "id": "1s-LoihFIhmY",
        "colab_type": "code",
        "colab": {
          "base_uri": "https://localhost:8080/",
          "height": 35
        },
        "outputId": "9053b5ea-feed-4628-9a5f-09df6b687003"
      },
      "source": [
        "#@title 37. How to find if a given array has any null values?\n",
        "np.isnan(iris_2d).sum()"
      ],
      "execution_count": null,
      "outputs": [
        {
          "output_type": "execute_result",
          "data": {
            "text/plain": [
              "20"
            ]
          },
          "metadata": {
            "tags": []
          },
          "execution_count": 38
        }
      ]
    },
    {
      "cell_type": "code",
      "metadata": {
        "id": "FRxrTlzdI4_1",
        "colab_type": "code",
        "colab": {
          "base_uri": "https://localhost:8080/",
          "height": 139
        },
        "outputId": "bb0a97c7-c3a3-4471-b7ff-5616c2d5380f"
      },
      "source": [
        "#@title 38. How to replace all missing values with 0 in a numpy array?\n",
        "iris_2d[np.isnan(iris_2d)] = 0\n",
        "print(iris_2d)"
      ],
      "execution_count": null,
      "outputs": [
        {
          "output_type": "stream",
          "text": [
            "[[5.1 3.5 1.4 0.2]\n",
            " [0.  3.  1.4 0.2]\n",
            " [4.7 3.2 1.3 0.2]\n",
            " ...\n",
            " [6.5 3.  5.2 2. ]\n",
            " [6.2 3.4 5.4 2.3]\n",
            " [5.9 3.  5.1 1.8]]\n"
          ],
          "name": "stdout"
        }
      ]
    },
    {
      "cell_type": "code",
      "metadata": {
        "id": "Yxc5BqQ4JKTL",
        "colab_type": "code",
        "colab": {
          "base_uri": "https://localhost:8080/",
          "height": 52
        },
        "outputId": "8fe43f8f-f037-4797-f9c2-cd3e6d2c1d88"
      },
      "source": [
        "#@title 39. How to find the count of unique values in a numpy array?\n",
        "url = 'https://archive.ics.uci.edu/ml/machine-learning-databases/iris/iris.data'\n",
        "iris = np.genfromtxt(url, delimiter=',', dtype='object')\n",
        "names = ('sepallength', 'sepalwidth', 'petallength', 'petalwidth', 'species')\n",
        "\n",
        "# Solution\n",
        "# Extract the species column as an array\n",
        "species = np.array([row.tolist()[4] for row in iris])\n",
        "\n",
        "# Get the unique values and the counts\n",
        "np.unique(species, return_counts=True)"
      ],
      "execution_count": null,
      "outputs": [
        {
          "output_type": "execute_result",
          "data": {
            "text/plain": [
              "(array([b'Iris-setosa', b'Iris-versicolor', b'Iris-virginica'],\n",
              "       dtype='|S15'), array([50, 50, 50]))"
            ]
          },
          "metadata": {
            "tags": []
          },
          "execution_count": 40
        }
      ]
    },
    {
      "cell_type": "code",
      "metadata": {
        "id": "GORdt7SAJzcz",
        "colab_type": "code",
        "colab": {
          "base_uri": "https://localhost:8080/",
          "height": 35
        },
        "outputId": "3ca11989-9bbd-4561-cf57-6c5c152b3a21"
      },
      "source": [
        "#@title 40. How to convert a numeric to a categorical (text) array?\n",
        "# Bin petallength \n",
        "petal_length_bin = np.digitize(iris[:, 2].astype('float'), [0, 3, 5, 10])\n",
        "\n",
        "# Map it to respective category\n",
        "label_map = {1: 'small', 2: 'medium', 3: 'large', 4: np.nan}\n",
        "petal_length_cat = [label_map[x] for x in petal_length_bin]\n",
        "\n",
        "# View\n",
        "petal_length_cat[:4]\n"
      ],
      "execution_count": null,
      "outputs": [
        {
          "output_type": "execute_result",
          "data": {
            "text/plain": [
              "['small', 'small', 'small', 'small']"
            ]
          },
          "metadata": {
            "tags": []
          },
          "execution_count": 41
        }
      ]
    },
    {
      "cell_type": "code",
      "metadata": {
        "id": "lY0Gwp5TKJ-t",
        "colab_type": "code",
        "colab": {
          "base_uri": "https://localhost:8080/",
          "height": 139
        },
        "outputId": "2809c3fc-f9d3-4987-8694-69da655fe95b"
      },
      "source": [
        "#@title 41. How to create a new column from existing columns of a numpy array?\n",
        "sepallength = iris_2d[:, 0].astype('float')\n",
        "petallength = iris_2d[:, 2].astype('float')\n",
        "volume = (np.pi * petallength * (sepallength**2))/3\n",
        "\n",
        "\n",
        "# Introduce new dimension to match iris_2d's\n",
        "volume = volume[:, np.newaxis]\n",
        "out = np.hstack([iris_2d, volume])\n",
        "print(out)"
      ],
      "execution_count": null,
      "outputs": [
        {
          "output_type": "stream",
          "text": [
            "[[5.100e+00 3.500e+00 1.400e+00 2.000e-01 3.813e+01]\n",
            " [0.000e+00 3.000e+00 1.400e+00 2.000e-01 0.000e+00]\n",
            " [4.700e+00 3.200e+00 1.300e+00 2.000e-01 3.007e+01]\n",
            " ...\n",
            " [6.500e+00 3.000e+00 5.200e+00 2.000e+00 2.301e+02]\n",
            " [6.200e+00 3.400e+00 5.400e+00 2.300e+00 2.174e+02]\n",
            " [5.900e+00 3.000e+00 5.100e+00 1.800e+00 1.859e+02]]\n"
          ],
          "name": "stdout"
        }
      ]
    },
    {
      "cell_type": "code",
      "metadata": {
        "id": "V0oADFxrMnXa",
        "colab_type": "code",
        "colab": {
          "base_uri": "https://localhost:8080/",
          "height": 52
        },
        "outputId": "d218e60a-4b94-4aaf-9795-a458711363a0"
      },
      "source": [
        "#@title 42. How to do probabilistic sampling in numpy?\n",
        "\n",
        "# Get the species column\n",
        "species = iris[:, 4]\n",
        "\n",
        "# Approach 1: Generate Probablistically\n",
        "np.random.seed(100)\n",
        "a = np.array(['Iris-setosa', 'Iris-versicolor', 'Iris-virginica'])\n",
        "species_out = np.random.choice(a, 150, p=[0.5, 0.25, 0.25])\n",
        "\n",
        "# Approach 2: Probablistic Sampling (preferred)\n",
        "np.random.seed(100)\n",
        "probs = np.r_[np.linspace(0, 0.500, num=50), np.linspace(0.501, .750, num=50), np.linspace(.751, 1.0, num=50)]\n",
        "index = np.searchsorted(probs, np.random.random(150))\n",
        "species_out = species[index]\n",
        "print(np.unique(species_out, return_counts=True))"
      ],
      "execution_count": null,
      "outputs": [
        {
          "output_type": "stream",
          "text": [
            "(array([b'Iris-setosa', b'Iris-versicolor', b'Iris-virginica'],\n",
            "      dtype=object), array([77, 37, 36]))\n"
          ],
          "name": "stdout"
        }
      ]
    },
    {
      "cell_type": "code",
      "metadata": {
        "id": "DZQuOMv7PQVK",
        "colab_type": "code",
        "colab": {
          "base_uri": "https://localhost:8080/",
          "height": 35
        },
        "outputId": "4db904e7-c7cf-4bd6-ec63-8dd1c03c5ee8"
      },
      "source": [
        "#@title 43. How to get the second largest value of an array when grouped by another array?\n",
        "#What is the value of second longest petallength of species setosa\n",
        "# Get the species and petal length columns\n",
        "petal_len_setosa = iris[iris[:, 4] == b'Iris-setosa', [2]].astype('float')\n",
        "\n",
        "# Get the second last value\n",
        "np.unique(np.sort(petal_len_setosa))[-2]"
      ],
      "execution_count": null,
      "outputs": [
        {
          "output_type": "execute_result",
          "data": {
            "text/plain": [
              "1.7"
            ]
          },
          "metadata": {
            "tags": []
          },
          "execution_count": 44
        }
      ]
    },
    {
      "cell_type": "code",
      "metadata": {
        "id": "uj-ESEg0Oumk",
        "colab_type": "code",
        "colab": {
          "base_uri": "https://localhost:8080/",
          "height": 139
        },
        "outputId": "9cec2b86-fd72-494b-89a5-18042e575091"
      },
      "source": [
        "#@title 44. How to sort a 2D array by a column\n",
        "#Sort the iris dataset based on sepallength column.\n",
        "print(iris[iris[:,0].argsort()])"
      ],
      "execution_count": null,
      "outputs": [
        {
          "output_type": "stream",
          "text": [
            "[[b'4.3' b'3.0' b'1.1' b'0.1' b'Iris-setosa']\n",
            " [b'4.4' b'3.2' b'1.3' b'0.2' b'Iris-setosa']\n",
            " [b'4.4' b'3.0' b'1.3' b'0.2' b'Iris-setosa']\n",
            " ...\n",
            " [b'7.7' b'3.8' b'6.7' b'2.2' b'Iris-virginica']\n",
            " [b'7.7' b'3.0' b'6.1' b'2.3' b'Iris-virginica']\n",
            " [b'7.9' b'3.8' b'6.4' b'2.0' b'Iris-virginica']]\n"
          ],
          "name": "stdout"
        }
      ]
    },
    {
      "cell_type": "code",
      "metadata": {
        "id": "EwXI9vtGQCEz",
        "colab_type": "code",
        "colab": {
          "base_uri": "https://localhost:8080/",
          "height": 35
        },
        "outputId": "0ce87764-6208-489a-877b-eeab0352b200"
      },
      "source": [
        "#@title 45. How to find the most frequent value in a numpy array?\n",
        "#Find the most frequent value of petal length (3rd column) in iris dataset.\n",
        "vals, counts = np.unique(iris[:, 2], return_counts=True)\n",
        "print(vals[np.argmax(counts)])"
      ],
      "execution_count": null,
      "outputs": [
        {
          "output_type": "stream",
          "text": [
            "b'1.5'\n"
          ],
          "name": "stdout"
        }
      ]
    },
    {
      "cell_type": "code",
      "metadata": {
        "id": "fGqGFv8AQYdN",
        "colab_type": "code",
        "colab": {
          "base_uri": "https://localhost:8080/",
          "height": 35
        },
        "outputId": "2090a42b-138d-4422-d207-43cc56a4ab2d"
      },
      "source": [
        "#@title 46. How to find the position of the first occurrence of a value greater than a given value?\n",
        "#Find the position of the first occurrence of a value greater than 1.0 in petalwidth 4th column of iris dataset.\n",
        "np.argwhere(iris[:, 3].astype(float) > 1.0)[0]"
      ],
      "execution_count": null,
      "outputs": [
        {
          "output_type": "execute_result",
          "data": {
            "text/plain": [
              "array([50])"
            ]
          },
          "metadata": {
            "tags": []
          },
          "execution_count": 47
        }
      ]
    },
    {
      "cell_type": "code",
      "metadata": {
        "id": "YzhpNbUVQqyo",
        "colab_type": "code",
        "colab": {
          "base_uri": "https://localhost:8080/",
          "height": 87
        },
        "outputId": "28da6881-a32e-4aab-badf-289501aaa5fb"
      },
      "source": [
        "#@title 47. How to replace all values greater than a given value to a given cutoff?\n",
        "#From the array a, replace all values greater than 30 to 30 and less than 10 to 10.\n",
        "print(\"sol1:\")\n",
        "np.random.seed(100)\n",
        "a = np.random.uniform(1,50, 20)\n",
        "print(np.clip(a, a_min=10, a_max=30))\n",
        "print(\"sol2:\")\n",
        "print(np.where(a < 10, 10, np.where(a > 30, 30, a)))"
      ],
      "execution_count": null,
      "outputs": [
        {
          "output_type": "stream",
          "text": [
            "sol1:\n",
            "[27.627 14.64  21.801 ... 10.    30.    14.43 ]\n",
            "sol2:\n",
            "[27.627 14.64  21.801 ... 10.    30.    14.43 ]\n"
          ],
          "name": "stdout"
        }
      ]
    },
    {
      "cell_type": "code",
      "metadata": {
        "id": "oM8LqETXSOpc",
        "colab_type": "code",
        "colab": {
          "base_uri": "https://localhost:8080/",
          "height": 87
        },
        "outputId": "aafe6a48-df73-48e6-9cf5-2e1bc6a3f7fe"
      },
      "source": [
        "#@title 48. How to get the positions of top n values from a numpy array?\n",
        "#Get the positions of top 5 maximum values in a given array a.\n",
        "print(\"sol1:\")\n",
        "print(a.argsort()[:5])\n",
        "\n",
        "print(\"sol2:\")\n",
        "print(np.argpartition(-a, 5)[:5])\n"
      ],
      "execution_count": null,
      "outputs": [
        {
          "output_type": "stream",
          "text": [
            "sol1:\n",
            "[ 4 13  5  8 17]\n",
            "sol2:\n",
            "[15 10  3  7 18]\n"
          ],
          "name": "stdout"
        }
      ]
    },
    {
      "cell_type": "code",
      "metadata": {
        "id": "JzDK-ohSSnz4",
        "colab_type": "code",
        "colab": {}
      },
      "source": [
        "#@title 49. How to compute the row wise counts of all possible values in an array?\n",
        "#?????"
      ],
      "execution_count": null,
      "outputs": []
    },
    {
      "cell_type": "code",
      "metadata": {
        "id": "osfxPMDbSnVM",
        "colab_type": "code",
        "colab": {
          "base_uri": "https://localhost:8080/",
          "height": 87
        },
        "outputId": "b8e19e4d-69e5-4795-b783-9b9fba2cd44d"
      },
      "source": [
        "#@title 50. How to convert an array of arrays into a flat 1d array?\n",
        "arr1 = np.arange(3)\n",
        "arr2 = np.arange(3,7)\n",
        "arr3 = np.arange(7,10)\n",
        "\n",
        "array_of_arrays = np.array([arr1, arr2, arr3])\n",
        "print(\"sol1:\")\n",
        "arr_2d = np.array([a for arr in array_of_arrays for a in arr])\n",
        "print(arr_2d)\n",
        "print(\"sol2:\")\n",
        "arr_2d = np.concatenate(array_of_arrays)\n",
        "print(arr_2d)"
      ],
      "execution_count": null,
      "outputs": [
        {
          "output_type": "stream",
          "text": [
            "sol1:\n",
            "[0 1 2 3 4 5 6 7 8 9]\n",
            "sol2:\n",
            "[0 1 2 3 4 5 6 7 8 9]\n"
          ],
          "name": "stdout"
        }
      ]
    },
    {
      "cell_type": "code",
      "metadata": {
        "id": "c4eBlxFlUgA3",
        "colab_type": "code",
        "colab": {
          "base_uri": "https://localhost:8080/",
          "height": 121
        },
        "outputId": "e388b2ce-fc5a-4edc-a4bb-1ef40b5a9072"
      },
      "source": [
        "#@title 51. How to generate one-hot encodings for an array in numpy?\n",
        "np.random.seed(101) \n",
        "arr = np.random.randint(1,4, size=6)\n",
        "arr\n",
        "# Solution:\n",
        "def one_hot_encodings(arr):\n",
        "    uniqs = np.unique(arr)\n",
        "    out = np.zeros((arr.shape[0], uniqs.shape[0]))\n",
        "    for i, k in enumerate(arr):\n",
        "        out[i, k-1] = 1\n",
        "    return out\n",
        "\n",
        "one_hot_encodings(arr)"
      ],
      "execution_count": null,
      "outputs": [
        {
          "output_type": "execute_result",
          "data": {
            "text/plain": [
              "array([[0., 1., 0.],\n",
              "       [0., 0., 1.],\n",
              "       [0., 1., 0.],\n",
              "       [0., 1., 0.],\n",
              "       [0., 1., 0.],\n",
              "       [1., 0., 0.]])"
            ]
          },
          "metadata": {
            "tags": []
          },
          "execution_count": 52
        }
      ]
    },
    {
      "cell_type": "code",
      "metadata": {
        "id": "HY74wTQUUfvu",
        "colab_type": "code",
        "colab": {
          "base_uri": "https://localhost:8080/",
          "height": 35
        },
        "outputId": "66d1dd2b-6c73-420b-eada-ec6d35f4897c"
      },
      "source": [
        "#@title 52. How to create row numbers grouped by a categorical variable?\n",
        "# Create row numbers grouped by a categorical variable.\n",
        "species = np.genfromtxt(url, delimiter=',', dtype='str', usecols=4)\n",
        "species_small = np.sort(np.random.choice(species, size=20))\n",
        "print([i for val in np.unique(species_small) for i, grp in enumerate(species_small[species_small==val])])"
      ],
      "execution_count": null,
      "outputs": [
        {
          "output_type": "stream",
          "text": [
            "[0, 1, 2, 3, 4, 0, 1, 2, 3, 4, 5, 0, 1, 2, 3, 4, 5, 6, 7, 8]\n"
          ],
          "name": "stdout"
        }
      ]
    },
    {
      "cell_type": "code",
      "metadata": {
        "id": "ef52tA2LV-jm",
        "colab_type": "code",
        "colab": {
          "base_uri": "https://localhost:8080/",
          "height": 35
        },
        "outputId": "7c7d2880-6d7e-4666-9d1c-2af98f9e3f10"
      },
      "source": [
        "#@title 53. How to create groud ids based on a given categorical variable?\n",
        "# Solution:\n",
        "output = [np.argwhere(np.unique(species_small) == s).tolist()[0][0] for val in np.unique(species_small) for s in species_small[species_small==val]]\n",
        "\n",
        "# Solution: For Loop version\n",
        "output = []\n",
        "uniqs = np.unique(species_small)\n",
        "\n",
        "for val in uniqs:  # uniq values in group\n",
        "    for s in species_small[species_small==val]:  # each element in group\n",
        "        groupid = np.argwhere(uniqs == s).tolist()[0][0]  # groupid\n",
        "        output.append(groupid)\n",
        "\n",
        "print(output)"
      ],
      "execution_count": null,
      "outputs": [
        {
          "output_type": "stream",
          "text": [
            "[0, 0, 0, 0, 0, 1, 1, 1, 1, 1, 1, 2, 2, 2, 2, 2, 2, 2, 2, 2]\n"
          ],
          "name": "stdout"
        }
      ]
    },
    {
      "cell_type": "code",
      "metadata": {
        "id": "gEEelQGpWLr3",
        "colab_type": "code",
        "colab": {
          "base_uri": "https://localhost:8080/",
          "height": 69
        },
        "outputId": "85c8b7a3-bb47-4259-9e55-89a20a3cdd8e"
      },
      "source": [
        "#@title 54. How to rank items in an array using numpy?\n",
        "np.random.seed(10)\n",
        "a = np.random.randint(20, size=10)\n",
        "print('Array: ', a)\n",
        "\n",
        "print(a.argsort().argsort())\n",
        "print('Array: ', a)"
      ],
      "execution_count": null,
      "outputs": [
        {
          "output_type": "stream",
          "text": [
            "Array:  [ 9  4 15  0 17 16 17  8  9  0]\n",
            "[4 2 6 0 8 7 9 3 5 1]\n",
            "Array:  [ 9  4 15  0 17 16 17  8  9  0]\n"
          ],
          "name": "stdout"
        }
      ]
    },
    {
      "cell_type": "code",
      "metadata": {
        "id": "hUS76q-q1_ao",
        "colab_type": "code",
        "colab": {
          "base_uri": "https://localhost:8080/",
          "height": 35
        },
        "outputId": "fee22c48-e41f-45fc-b391-06e3051d44a8"
      },
      "source": [
        "#@title 55. How to rank items in a multidimensional array using numpy?\n",
        "print(a.ravel().argsort().argsort())"
      ],
      "execution_count": null,
      "outputs": [
        {
          "output_type": "stream",
          "text": [
            "[4 2 6 0 8 7 9 3 5 1]\n"
          ],
          "name": "stdout"
        }
      ]
    },
    {
      "cell_type": "code",
      "metadata": {
        "id": "5TuBL6xmWVi3",
        "colab_type": "code",
        "colab": {
          "base_uri": "https://localhost:8080/",
          "height": 35
        },
        "outputId": "f7e206cf-fd8d-4d59-bcc5-21093c173655"
      },
      "source": [
        "#@title 56. How to find the maximum value in each row of a numpy array 2d?\n",
        "np.random.seed(100)\n",
        "a = np.random.randint(1,10, [5,3])\n",
        "print(np.amax(a, axis=1))"
      ],
      "execution_count": null,
      "outputs": [
        {
          "output_type": "stream",
          "text": [
            "[9 8 6 3 9]\n"
          ],
          "name": "stdout"
        }
      ]
    },
    {
      "cell_type": "code",
      "metadata": {
        "id": "V9_Cjv4S22OR",
        "colab_type": "code",
        "colab": {
          "base_uri": "https://localhost:8080/",
          "height": 35
        },
        "outputId": "e18ed8af-5f40-4d1a-ffae-b55a1d6da8f0"
      },
      "source": [
        "#@title 57. How to compute the min-by-max for each row for a numpy array 2d?\n",
        "np.apply_along_axis(lambda x: np.min(x)/np.max(x), arr=a, axis=1)"
      ],
      "execution_count": null,
      "outputs": [
        {
          "output_type": "execute_result",
          "data": {
            "text/plain": [
              "array([0.444, 0.125, 0.5  , 1.   , 0.111])"
            ]
          },
          "metadata": {
            "tags": []
          },
          "execution_count": 61
        }
      ]
    },
    {
      "cell_type": "code",
      "metadata": {
        "id": "a4Sh-Q9Y3drl",
        "colab_type": "code",
        "colab": {
          "base_uri": "https://localhost:8080/",
          "height": 35
        },
        "outputId": "48581247-5554-41af-c10d-93f199a33cbf"
      },
      "source": [
        "#title 58. How to find the duplicate records in a numpy array?\n",
        "#Find the duplicate entries (2nd occurrence onwards) in the given numpy array and mark them as True. First time occurrences should be False.\n",
        "np.random.seed(100)\n",
        "a = np.random.randint(0, 5, 10)\n",
        "\n",
        "## Solution\n",
        "# There is no direct function to do this as of 1.13.3\n",
        "\n",
        "# Create an all True array\n",
        "out = np.full(a.shape[0], True)\n",
        "\n",
        "# Find the index positions of unique elements\n",
        "unique_positions = np.unique(a, return_index=True)[1]\n",
        "\n",
        "# Mark those positions as False\n",
        "out[unique_positions] = False\n",
        "\n",
        "print(out)"
      ],
      "execution_count": null,
      "outputs": [
        {
          "output_type": "stream",
          "text": [
            "[False  True False  True False False  True  True  True  True]\n"
          ],
          "name": "stdout"
        }
      ]
    },
    {
      "cell_type": "code",
      "metadata": {
        "id": "nGf99ZHq5eLX",
        "colab_type": "code",
        "colab": {
          "base_uri": "https://localhost:8080/",
          "height": 35
        },
        "outputId": "551af164-37aa-4cd3-9ce1-ca58284fb299"
      },
      "source": [
        "#@title 60. How to convert a PIL image to numpy array?\n",
        "from io import BytesIO\n",
        "from PIL import Image\n",
        "import PIL, requests\n",
        "\n",
        "# Import image from URL\n",
        "URL = 'https://upload.wikimedia.org/wikipedia/commons/8/8b/Denali_Mt_McKinley.jpg'\n",
        "response = requests.get(URL)\n",
        "\n",
        "# Read it as Image\n",
        "I = Image.open(BytesIO(response.content))\n",
        "\n",
        "# Optionally resize\n",
        "I = I.resize([150,150])\n",
        "\n",
        "# Convert to numpy array\n",
        "arr = np.asarray(I)\n",
        "\n",
        "# Optionaly Convert it back to an image and show\n",
        "im = PIL.Image.fromarray(np.uint8(arr))\n",
        "Image.Image.show(im)"
      ],
      "execution_count": null,
      "outputs": [
        {
          "output_type": "stream",
          "text": [
            "None\n"
          ],
          "name": "stdout"
        }
      ]
    },
    {
      "cell_type": "code",
      "metadata": {
        "id": "qOoCoyfh50tF",
        "colab_type": "code",
        "colab": {
          "base_uri": "https://localhost:8080/",
          "height": 35
        },
        "outputId": "5cfd0cd0-ef28-47fd-b4e0-281bf095794a"
      },
      "source": [
        "#@title 61. Drop all nan\n",
        "a = np.array([1,2,3,np.nan,5,6,7,np.nan])\n",
        "a[~np.isnan(a)]"
      ],
      "execution_count": null,
      "outputs": [
        {
          "output_type": "execute_result",
          "data": {
            "text/plain": [
              "array([1., 2., 3., 5., 6., 7.])"
            ]
          },
          "metadata": {
            "tags": []
          },
          "execution_count": 66
        }
      ]
    },
    {
      "cell_type": "code",
      "metadata": {
        "id": "dQ38F9aF6Un6",
        "colab_type": "code",
        "colab": {
          "base_uri": "https://localhost:8080/",
          "height": 35
        },
        "outputId": "1dbdc19e-d91f-4d9d-a825-d49cfca9787b"
      },
      "source": [
        "#@title 62. How to compute the euclidean distance between two arrays?\n",
        "a = np.array([1,2,3,4,5])\n",
        "b = np.array([4,5,6,7,8])\n",
        "\n",
        "# Solution\n",
        "dist = np.linalg.norm(a-b)\n",
        "dist"
      ],
      "execution_count": null,
      "outputs": [
        {
          "output_type": "execute_result",
          "data": {
            "text/plain": [
              "6.708203932499369"
            ]
          },
          "metadata": {
            "tags": []
          },
          "execution_count": 67
        }
      ]
    },
    {
      "cell_type": "code",
      "metadata": {
        "id": "Zmju48Q77e_A",
        "colab_type": "code",
        "colab": {
          "base_uri": "https://localhost:8080/",
          "height": 35
        },
        "outputId": "d8f5725f-e9ca-4476-c5b9-8f7543c2c279"
      },
      "source": [
        "#@title 66. How to convert numpy's datetime64 object to datetime's datetime object?\n",
        "# Input: a numpy datetime64 object\n",
        "dt64 = np.datetime64('2018-02-25 22:10:10')\n",
        "# Input: a numpy datetime64 object\n",
        "dt64 = np.datetime64('2018-02-25 22:10:10')\n",
        "\n",
        "# Solution\n",
        "from datetime import datetime\n",
        "dt64.tolist()\n",
        "\n",
        "# or\n",
        "\n",
        "dt64.astype(datetime)\n",
        "#> datetime.datetime(2018, 2, 25, 22, 10, 10)"
      ],
      "execution_count": null,
      "outputs": [
        {
          "output_type": "execute_result",
          "data": {
            "text/plain": [
              "datetime.datetime(2018, 2, 25, 22, 10, 10)"
            ]
          },
          "metadata": {
            "tags": []
          },
          "execution_count": 69
        }
      ]
    },
    {
      "cell_type": "code",
      "metadata": {
        "id": "CJPF5jMI6fu4",
        "colab_type": "code",
        "colab": {
          "base_uri": "https://localhost:8080/",
          "height": 52
        },
        "outputId": "01279e58-f3ac-4a5e-a964-3d780c77497e"
      },
      "source": [
        "#@title 67. Compute moving average \n",
        "def moving_average(a, n=3) :\n",
        "    ret = np.cumsum(a, dtype=float)\n",
        "    ret[n:] = ret[n:] - ret[:-n]\n",
        "    return ret[n - 1:] / n\n",
        "\n",
        "np.random.seed(100)\n",
        "Z = np.random.randint(10, size=10)\n",
        "print('array: ', Z)\n",
        "# Method 1\n",
        "moving_average(Z, n=3).round(2)"
      ],
      "execution_count": null,
      "outputs": [
        {
          "output_type": "stream",
          "text": [
            "array:  [8 8 3 7 7 0 4 2 5 2]\n"
          ],
          "name": "stdout"
        },
        {
          "output_type": "execute_result",
          "data": {
            "text/plain": [
              "array([6.33, 6.  , 5.67, 4.67, 3.67, 2.  , 3.67, 3.  ])"
            ]
          },
          "metadata": {
            "tags": []
          },
          "execution_count": 68
        }
      ]
    }
  ]
}